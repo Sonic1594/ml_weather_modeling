{
 "cells": [
  {
   "cell_type": "code",
   "execution_count": 4,
   "metadata": {},
   "outputs": [
    {
     "name": "stderr",
     "output_type": "stream",
     "text": [
      "2024-02-10 14:44:58.827314: I external/local_tsl/tsl/cuda/cudart_stub.cc:31] Could not find cuda drivers on your machine, GPU will not be used.\n",
      "2024-02-10 14:44:58.849187: E external/local_xla/xla/stream_executor/cuda/cuda_dnn.cc:9261] Unable to register cuDNN factory: Attempting to register factory for plugin cuDNN when one has already been registered\n",
      "2024-02-10 14:44:58.849205: E external/local_xla/xla/stream_executor/cuda/cuda_fft.cc:607] Unable to register cuFFT factory: Attempting to register factory for plugin cuFFT when one has already been registered\n",
      "2024-02-10 14:44:58.849956: E external/local_xla/xla/stream_executor/cuda/cuda_blas.cc:1515] Unable to register cuBLAS factory: Attempting to register factory for plugin cuBLAS when one has already been registered\n",
      "2024-02-10 14:44:58.853936: I external/local_tsl/tsl/cuda/cudart_stub.cc:31] Could not find cuda drivers on your machine, GPU will not be used.\n",
      "2024-02-10 14:44:58.854521: I tensorflow/core/platform/cpu_feature_guard.cc:182] This TensorFlow binary is optimized to use available CPU instructions in performance-critical operations.\n",
      "To enable the following instructions: AVX2 FMA, in other operations, rebuild TensorFlow with the appropriate compiler flags.\n",
      "2024-02-10 14:44:59.368720: W tensorflow/compiler/tf2tensorrt/utils/py_utils.cc:38] TF-TRT Warning: Could not find TensorRT\n"
     ]
    }
   ],
   "source": [
    "# This file reads in a csv of hourly normals taken from https://www.ncei.noaa.gov/cdo-web/search from Seatac airport for 2010.\n",
    "# Then preprocesses data before feed hourly temperature normals, and hourly wind direction it to a multivariable LSTM model\n",
    "# to train and use to forecast the temperature.\n",
    "\n",
    "from keras.callbacks import ModelCheckpoint\n",
    "from keras.layers import *\n",
    "from keras.models import load_model\n",
    "from keras.losses import MeanSquaredError\n",
    "from keras.models import Sequential\n",
    "from keras.metrics import RootMeanSquaredError\n",
    "from keras.optimizers import Adam\n",
    "\n",
    "import math\n",
    "import matplotlib.pyplot as plt\n",
    "import pandas as pd\n",
    "import numpy as np\n",
    "import matplotlib"
   ]
  },
  {
   "cell_type": "code",
   "execution_count": 3,
   "metadata": {},
   "outputs": [],
   "source": [
    "# Load data\n",
    "\n",
    "weather = pd.read_csv(\"3588306.csv\", index_col=\"DATE\")"
   ]
  },
  {
   "cell_type": "code",
   "execution_count": null,
   "metadata": {},
   "outputs": [],
   "source": [
    "weather"
   ]
  },
  {
   "cell_type": "code",
   "execution_count": 4,
   "metadata": {},
   "outputs": [],
   "source": [
    "# Remove unused data points\n",
    "\n",
    "del weather[\"HLY-PRES-NORMAL\"]\n",
    "del weather[\"STATION\"]\n",
    "del weather[\"NAME\"]"
   ]
  },
  {
   "cell_type": "code",
   "execution_count": 5,
   "metadata": {},
   "outputs": [
    {
     "data": {
      "text/html": [
       "<div>\n",
       "<style scoped>\n",
       "    .dataframe tbody tr th:only-of-type {\n",
       "        vertical-align: middle;\n",
       "    }\n",
       "\n",
       "    .dataframe tbody tr th {\n",
       "        vertical-align: top;\n",
       "    }\n",
       "\n",
       "    .dataframe thead th {\n",
       "        text-align: right;\n",
       "    }\n",
       "</style>\n",
       "<table border=\"1\" class=\"dataframe\">\n",
       "  <thead>\n",
       "    <tr style=\"text-align: right;\">\n",
       "      <th></th>\n",
       "      <th>HLY-TEMP-NORMAL</th>\n",
       "      <th>HLY-WIND-1STDIR</th>\n",
       "    </tr>\n",
       "    <tr>\n",
       "      <th>DATE</th>\n",
       "      <th></th>\n",
       "      <th></th>\n",
       "    </tr>\n",
       "  </thead>\n",
       "  <tbody>\n",
       "    <tr>\n",
       "      <th>01-01T01:00:00</th>\n",
       "      <td>39.2</td>\n",
       "      <td>5</td>\n",
       "    </tr>\n",
       "    <tr>\n",
       "      <th>01-01T02:00:00</th>\n",
       "      <td>39.0</td>\n",
       "      <td>5</td>\n",
       "    </tr>\n",
       "    <tr>\n",
       "      <th>01-01T03:00:00</th>\n",
       "      <td>38.9</td>\n",
       "      <td>5</td>\n",
       "    </tr>\n",
       "    <tr>\n",
       "      <th>01-01T04:00:00</th>\n",
       "      <td>38.8</td>\n",
       "      <td>5</td>\n",
       "    </tr>\n",
       "    <tr>\n",
       "      <th>01-01T05:00:00</th>\n",
       "      <td>38.7</td>\n",
       "      <td>5</td>\n",
       "    </tr>\n",
       "    <tr>\n",
       "      <th>...</th>\n",
       "      <td>...</td>\n",
       "      <td>...</td>\n",
       "    </tr>\n",
       "    <tr>\n",
       "      <th>12-31T19:00:00</th>\n",
       "      <td>40.7</td>\n",
       "      <td>5</td>\n",
       "    </tr>\n",
       "    <tr>\n",
       "      <th>12-31T20:00:00</th>\n",
       "      <td>40.5</td>\n",
       "      <td>5</td>\n",
       "    </tr>\n",
       "    <tr>\n",
       "      <th>12-31T21:00:00</th>\n",
       "      <td>40.2</td>\n",
       "      <td>5</td>\n",
       "    </tr>\n",
       "    <tr>\n",
       "      <th>12-31T22:00:00</th>\n",
       "      <td>40.0</td>\n",
       "      <td>5</td>\n",
       "    </tr>\n",
       "    <tr>\n",
       "      <th>12-31T23:00:00</th>\n",
       "      <td>39.7</td>\n",
       "      <td>5</td>\n",
       "    </tr>\n",
       "  </tbody>\n",
       "</table>\n",
       "<p>8759 rows × 2 columns</p>\n",
       "</div>"
      ],
      "text/plain": [
       "                HLY-TEMP-NORMAL  HLY-WIND-1STDIR\n",
       "DATE                                            \n",
       "01-01T01:00:00             39.2                5\n",
       "01-01T02:00:00             39.0                5\n",
       "01-01T03:00:00             38.9                5\n",
       "01-01T04:00:00             38.8                5\n",
       "01-01T05:00:00             38.7                5\n",
       "...                         ...              ...\n",
       "12-31T19:00:00             40.7                5\n",
       "12-31T20:00:00             40.5                5\n",
       "12-31T21:00:00             40.2                5\n",
       "12-31T22:00:00             40.0                5\n",
       "12-31T23:00:00             39.7                5\n",
       "\n",
       "[8759 rows x 2 columns]"
      ]
     },
     "execution_count": 5,
     "metadata": {},
     "output_type": "execute_result"
    }
   ],
   "source": [
    "weather"
   ]
  },
  {
   "cell_type": "code",
   "execution_count": 6,
   "metadata": {},
   "outputs": [
    {
     "data": {
      "text/plain": [
       "HLY-TEMP-NORMAL    0\n",
       "HLY-WIND-1STDIR    0\n",
       "dtype: int64"
      ]
     },
     "execution_count": 6,
     "metadata": {},
     "output_type": "execute_result"
    }
   ],
   "source": [
    "# Check for NAN vals\n",
    "\n",
    "weather.apply(pd.isnull).sum()"
   ]
  },
  {
   "cell_type": "code",
   "execution_count": 8,
   "metadata": {},
   "outputs": [
    {
     "data": {
      "text/plain": [
       "<Axes: xlabel='DATE'>"
      ]
     },
     "execution_count": 8,
     "metadata": {},
     "output_type": "execute_result"
    },
    {
     "data": {
      "image/png": "[encoded data removed]",
      "text/plain": [
       "<Figure size 640x480 with 1 Axes>"
      ]
     },
     "metadata": {},
     "output_type": "display_data"
    }
   ],
   "source": [
    "# Take a look at data using\n",
    "\n",
    "weather[[\"HLY-TEMP-NORMAL\"]].plot()"
   ]
  },
  {
   "cell_type": "code",
   "execution_count": 9,
   "metadata": {},
   "outputs": [],
   "source": [
    "# Function to create sliding window of past data points to feed model\n",
    "\n",
    "def df_to_X_y(df, window_size=10):\n",
    "  df_as_np = df.to_numpy()\n",
    "  X = []\n",
    "  y = []\n",
    "  for i in range(len(df_as_np)-window_size):\n",
    "    row = [r for r in df_as_np[i:i+window_size]]\n",
    "    X.append(row)\n",
    "    label = df_as_np[i+window_size][0]\n",
    "    y.append(label)\n",
    "  return np.array(X), np.array(y)"
   ]
  },
  {
   "cell_type": "code",
   "execution_count": 10,
   "metadata": {},
   "outputs": [
    {
     "data": {
      "text/plain": [
       "((8749, 10, 1), (8749,))"
      ]
     },
     "execution_count": 10,
     "metadata": {},
     "output_type": "execute_result"
    }
   ],
   "source": [
    "# Generate data \n",
    "\n",
    "WINDOW_SIZE = 10\n",
    "X, y = df_to_X_y(weather[\"HLY-TEMP-NORMAL\"])\n",
    "X.shape, y.shape"
   ]
  },
  {
   "cell_type": "code",
   "execution_count": 11,
   "metadata": {},
   "outputs": [
    {
     "data": {
      "text/plain": [
       "((7700, 10, 1), (7700,), (500, 10, 1), (500,), (549, 10, 1), (549,))"
      ]
     },
     "execution_count": 11,
     "metadata": {},
     "output_type": "execute_result"
    }
   ],
   "source": [
    "# Break up data into training, validation, and test sets\n",
    "\n",
    "X_train, y_train = X[:7700], y[:7700]\n",
    "X_val, y_val = X[7700:8200], y[7700:8200]\n",
    "X_test, y_test = X1[8200:], y[8200:]\n",
    "X_train.shape, y_train.shape, X_val.shape, y_val.shape, X_test.shape, y_test.shape"
   ]
  },
  {
   "cell_type": "code",
   "execution_count": 6,
   "metadata": {},
   "outputs": [
    {
     "name": "stdout",
     "output_type": "stream",
     "text": [
      "Model: \"sequential_1\"\n",
      "_________________________________________________________________\n",
      " Layer (type)                Output Shape              Param #   \n",
      "=================================================================\n",
      " lstm_1 (LSTM)               (None, 64)                16896     \n",
      "                                                                 \n",
      " dense_2 (Dense)             (None, 8)                 520       \n",
      "                                                                 \n",
      " dense_3 (Dense)             (None, 1)                 9         \n",
      "                                                                 \n",
      "=================================================================\n",
      "Total params: 17425 (68.07 KB)\n",
      "Trainable params: 17425 (68.07 KB)\n",
      "Non-trainable params: 0 (0.00 Byte)\n",
      "_________________________________________________________________\n"
     ]
    }
   ],
   "source": [
    "# Define LSTM model using using window size 10 for 1 variable input\n",
    "\n",
    "model = Sequential()\n",
    "model.add(InputLayer((10, 1)))\n",
    "model.add(LSTM(64))\n",
    "model.add(Dense(8, 'relu'))\n",
    "model.add(Dense(1, 'linear'))\n",
    "\n",
    "model.summary()"
   ]
  },
  {
   "cell_type": "code",
   "execution_count": 7,
   "metadata": {},
   "outputs": [],
   "source": [
    "# Create model checkpoint to save best model, then finally compile model\n",
    "\n",
    "cp = ModelCheckpoint('model/', save_best_only=True)\n",
    "model.compile(loss=MeanSquaredError(), optimizer=Adam(learning_rate=0.0001), metrics=[RootMeanSquaredError()])"
   ]
  },
  {
   "cell_type": "code",
   "execution_count": 16,
   "metadata": {},
   "outputs": [
    {
     "name": "stdout",
     "output_type": "stream",
     "text": [
      "Epoch 1/50\n",
      "214/241 [=========================>....] - ETA: 0s - loss: 2824.9878 - root_mean_squared_error: 53.1506INFO:tensorflow:Assets written to: model1/assets\n"
     ]
    },
    {
     "name": "stderr",
     "output_type": "stream",
     "text": [
      "INFO:tensorflow:Assets written to: model1/assets\n"
     ]
    },
    {
     "name": "stdout",
     "output_type": "stream",
     "text": [
      "241/241 [==============================] - 3s 10ms/step - loss: 2810.0742 - root_mean_squared_error: 53.0101 - val_loss: 1556.9275 - val_root_mean_squared_error: 39.4579\n",
      "Epoch 2/50\n",
      "223/241 [==========================>...] - ETA: 0s - loss: 2376.6843 - root_mean_squared_error: 48.7513INFO:tensorflow:Assets written to: model1/assets\n"
     ]
    },
    {
     "name": "stderr",
     "output_type": "stream",
     "text": [
      "INFO:tensorflow:Assets written to: model1/assets\n"
     ]
    },
    {
     "name": "stdout",
     "output_type": "stream",
     "text": [
      "241/241 [==============================] - 2s 8ms/step - loss: 2356.1235 - root_mean_squared_error: 48.5399 - val_loss: 1106.0221 - val_root_mean_squared_error: 33.2569\n",
      "Epoch 3/50\n",
      "227/241 [===========================>..] - ETA: 0s - loss: 1839.0526 - root_mean_squared_error: 42.8842INFO:tensorflow:Assets written to: model1/assets\n"
     ]
    },
    {
     "name": "stderr",
     "output_type": "stream",
     "text": [
      "INFO:tensorflow:Assets written to: model1/assets\n"
     ]
    },
    {
     "name": "stdout",
     "output_type": "stream",
     "text": [
      "241/241 [==============================] - 2s 9ms/step - loss: 1827.2583 - root_mean_squared_error: 42.7464 - val_loss: 779.0593 - val_root_mean_squared_error: 27.9116\n",
      "Epoch 4/50\n",
      "221/241 [==========================>...] - ETA: 0s - loss: 1436.7490 - root_mean_squared_error: 37.9045INFO:tensorflow:Assets written to: model1/assets\n"
     ]
    },
    {
     "name": "stderr",
     "output_type": "stream",
     "text": [
      "INFO:tensorflow:Assets written to: model1/assets\n"
     ]
    },
    {
     "name": "stdout",
     "output_type": "stream",
     "text": [
      "241/241 [==============================] - 2s 8ms/step - loss: 1425.5321 - root_mean_squared_error: 37.7562 - val_loss: 555.1877 - val_root_mean_squared_error: 23.5624\n",
      "Epoch 5/50\n",
      "220/241 [==========================>...] - ETA: 0s - loss: 1161.4320 - root_mean_squared_error: 34.0798INFO:tensorflow:Assets written to: model1/assets\n"
     ]
    },
    {
     "name": "stderr",
     "output_type": "stream",
     "text": [
      "INFO:tensorflow:Assets written to: model1/assets\n"
     ]
    },
    {
     "name": "stdout",
     "output_type": "stream",
     "text": [
      "241/241 [==============================] - 2s 8ms/step - loss: 1152.6827 - root_mean_squared_error: 33.9512 - val_loss: 392.5217 - val_root_mean_squared_error: 19.8122\n",
      "Epoch 6/50\n",
      "220/241 [==========================>...] - ETA: 0s - loss: 930.8937 - root_mean_squared_error: 30.5106INFO:tensorflow:Assets written to: model1/assets\n"
     ]
    },
    {
     "name": "stderr",
     "output_type": "stream",
     "text": [
      "INFO:tensorflow:Assets written to: model1/assets\n"
     ]
    },
    {
     "name": "stdout",
     "output_type": "stream",
     "text": [
      "241/241 [==============================] - 2s 9ms/step - loss: 922.4872 - root_mean_squared_error: 30.3725 - val_loss: 259.7140 - val_root_mean_squared_error: 16.1156\n",
      "Epoch 7/50\n",
      "224/241 [==========================>...] - ETA: 0s - loss: 729.4510 - root_mean_squared_error: 27.0084INFO:tensorflow:Assets written to: model1/assets\n"
     ]
    },
    {
     "name": "stderr",
     "output_type": "stream",
     "text": [
      "INFO:tensorflow:Assets written to: model1/assets\n"
     ]
    },
    {
     "name": "stdout",
     "output_type": "stream",
     "text": [
      "241/241 [==============================] - 2s 8ms/step - loss: 722.8397 - root_mean_squared_error: 26.8857 - val_loss: 156.0223 - val_root_mean_squared_error: 12.4909\n",
      "Epoch 8/50\n",
      "239/241 [============================>.] - ETA: 0s - loss: 554.4838 - root_mean_squared_error: 23.5475INFO:tensorflow:Assets written to: model1/assets\n"
     ]
    },
    {
     "name": "stderr",
     "output_type": "stream",
     "text": [
      "INFO:tensorflow:Assets written to: model1/assets\n"
     ]
    },
    {
     "name": "stdout",
     "output_type": "stream",
     "text": [
      "241/241 [==============================] - 2s 8ms/step - loss: 553.5387 - root_mean_squared_error: 23.5274 - val_loss: 80.6566 - val_root_mean_squared_error: 8.9809\n",
      "Epoch 9/50\n",
      "217/241 [==========================>...] - ETA: 0s - loss: 420.6976 - root_mean_squared_error: 20.5109INFO:tensorflow:Assets written to: model1/assets\n"
     ]
    },
    {
     "name": "stderr",
     "output_type": "stream",
     "text": [
      "INFO:tensorflow:Assets written to: model1/assets\n"
     ]
    },
    {
     "name": "stdout",
     "output_type": "stream",
     "text": [
      "241/241 [==============================] - 2s 9ms/step - loss: 414.8148 - root_mean_squared_error: 20.3670 - val_loss: 32.4565 - val_root_mean_squared_error: 5.6971\n",
      "Epoch 10/50\n",
      "219/241 [==========================>...] - ETA: 0s - loss: 308.2811 - root_mean_squared_error: 17.5579INFO:tensorflow:Assets written to: model1/assets\n"
     ]
    },
    {
     "name": "stderr",
     "output_type": "stream",
     "text": [
      "INFO:tensorflow:Assets written to: model1/assets\n"
     ]
    },
    {
     "name": "stdout",
     "output_type": "stream",
     "text": [
      "241/241 [==============================] - 2s 8ms/step - loss: 305.8038 - root_mean_squared_error: 17.4872 - val_loss: 8.4077 - val_root_mean_squared_error: 2.8996\n",
      "Epoch 11/50\n",
      "219/241 [==========================>...] - ETA: 0s - loss: 229.1797 - root_mean_squared_error: 15.1387INFO:tensorflow:Assets written to: model1/assets\n"
     ]
    },
    {
     "name": "stderr",
     "output_type": "stream",
     "text": [
      "INFO:tensorflow:Assets written to: model1/assets\n"
     ]
    },
    {
     "name": "stdout",
     "output_type": "stream",
     "text": [
      "241/241 [==============================] - 2s 9ms/step - loss: 224.4908 - root_mean_squared_error: 14.9830 - val_loss: 4.3020 - val_root_mean_squared_error: 2.0741\n",
      "Epoch 12/50\n",
      "241/241 [==============================] - 0s 2ms/step - loss: 167.5068 - root_mean_squared_error: 12.9424 - val_loss: 14.8275 - val_root_mean_squared_error: 3.8507\n",
      "Epoch 13/50\n",
      "241/241 [==============================] - 0s 2ms/step - loss: 130.3906 - root_mean_squared_error: 11.4189 - val_loss: 34.0726 - val_root_mean_squared_error: 5.8372\n",
      "Epoch 14/50\n",
      "241/241 [==============================] - 0s 2ms/step - loss: 108.1706 - root_mean_squared_error: 10.4005 - val_loss: 56.5840 - val_root_mean_squared_error: 7.5222\n",
      "Epoch 15/50\n",
      "241/241 [==============================] - 0s 2ms/step - loss: 96.1347 - root_mean_squared_error: 9.8048 - val_loss: 78.0469 - val_root_mean_squared_error: 8.8344\n",
      "Epoch 16/50\n",
      "241/241 [==============================] - 0s 2ms/step - loss: 90.3566 - root_mean_squared_error: 9.5056 - val_loss: 95.8525 - val_root_mean_squared_error: 9.7904\n",
      "Epoch 17/50\n",
      "241/241 [==============================] - 0s 2ms/step - loss: 86.4646 - root_mean_squared_error: 9.2986 - val_loss: 86.3774 - val_root_mean_squared_error: 9.2939\n",
      "Epoch 18/50\n",
      "241/241 [==============================] - 0s 2ms/step - loss: 77.8193 - root_mean_squared_error: 8.8215 - val_loss: 61.2282 - val_root_mean_squared_error: 7.8248\n",
      "Epoch 19/50\n",
      "241/241 [==============================] - 0s 2ms/step - loss: 63.2142 - root_mean_squared_error: 7.9507 - val_loss: 32.5409 - val_root_mean_squared_error: 5.7045\n",
      "Epoch 20/50\n",
      "241/241 [==============================] - 0s 2ms/step - loss: 45.1792 - root_mean_squared_error: 6.7215 - val_loss: 18.9498 - val_root_mean_squared_error: 4.3531\n",
      "Epoch 21/50\n",
      "241/241 [==============================] - 0s 2ms/step - loss: 31.2594 - root_mean_squared_error: 5.5910 - val_loss: 9.1572 - val_root_mean_squared_error: 3.0261\n",
      "Epoch 22/50\n",
      "218/241 [==========================>...] - ETA: 0s - loss: 21.8549 - root_mean_squared_error: 4.6749INFO:tensorflow:Assets written to: model1/assets\n"
     ]
    },
    {
     "name": "stderr",
     "output_type": "stream",
     "text": [
      "INFO:tensorflow:Assets written to: model1/assets\n"
     ]
    },
    {
     "name": "stdout",
     "output_type": "stream",
     "text": [
      "241/241 [==============================] - 2s 8ms/step - loss: 21.6295 - root_mean_squared_error: 4.6508 - val_loss: 4.0339 - val_root_mean_squared_error: 2.0084\n",
      "Epoch 23/50\n",
      "216/241 [=========================>....] - ETA: 0s - loss: 15.8658 - root_mean_squared_error: 3.9832INFO:tensorflow:Assets written to: model1/assets\n"
     ]
    },
    {
     "name": "stderr",
     "output_type": "stream",
     "text": [
      "INFO:tensorflow:Assets written to: model1/assets\n"
     ]
    },
    {
     "name": "stdout",
     "output_type": "stream",
     "text": [
      "241/241 [==============================] - 2s 8ms/step - loss: 15.4054 - root_mean_squared_error: 3.9250 - val_loss: 1.8661 - val_root_mean_squared_error: 1.3660\n",
      "Epoch 24/50\n",
      "223/241 [==========================>...] - ETA: 0s - loss: 11.7057 - root_mean_squared_error: 3.4214INFO:tensorflow:Assets written to: model1/assets\n"
     ]
    },
    {
     "name": "stderr",
     "output_type": "stream",
     "text": [
      "INFO:tensorflow:Assets written to: model1/assets\n"
     ]
    },
    {
     "name": "stdout",
     "output_type": "stream",
     "text": [
      "241/241 [==============================] - 2s 9ms/step - loss: 11.4854 - root_mean_squared_error: 3.3890 - val_loss: 1.1310 - val_root_mean_squared_error: 1.0635\n",
      "Epoch 25/50\n",
      "222/241 [==========================>...] - ETA: 0s - loss: 8.9760 - root_mean_squared_error: 2.9960INFO:tensorflow:Assets written to: model1/assets\n"
     ]
    },
    {
     "name": "stderr",
     "output_type": "stream",
     "text": [
      "INFO:tensorflow:Assets written to: model1/assets\n"
     ]
    },
    {
     "name": "stdout",
     "output_type": "stream",
     "text": [
      "241/241 [==============================] - 2s 8ms/step - loss: 8.8932 - root_mean_squared_error: 2.9822 - val_loss: 0.8422 - val_root_mean_squared_error: 0.9177\n",
      "Epoch 26/50\n",
      "216/241 [=========================>....] - ETA: 0s - loss: 7.1968 - root_mean_squared_error: 2.6827INFO:tensorflow:Assets written to: model1/assets\n"
     ]
    },
    {
     "name": "stderr",
     "output_type": "stream",
     "text": [
      "INFO:tensorflow:Assets written to: model1/assets\n"
     ]
    },
    {
     "name": "stdout",
     "output_type": "stream",
     "text": [
      "241/241 [==============================] - 2s 8ms/step - loss: 7.0458 - root_mean_squared_error: 2.6544 - val_loss: 0.6805 - val_root_mean_squared_error: 0.8249\n",
      "Epoch 27/50\n",
      "223/241 [==========================>...] - ETA: 0s - loss: 5.7208 - root_mean_squared_error: 2.3918INFO:tensorflow:Assets written to: model1/assets\n"
     ]
    },
    {
     "name": "stderr",
     "output_type": "stream",
     "text": [
      "INFO:tensorflow:Assets written to: model1/assets\n"
     ]
    },
    {
     "name": "stdout",
     "output_type": "stream",
     "text": [
      "241/241 [==============================] - 2s 9ms/step - loss: 5.6502 - root_mean_squared_error: 2.3770 - val_loss: 0.5355 - val_root_mean_squared_error: 0.7318\n",
      "Epoch 28/50\n",
      "222/241 [==========================>...] - ETA: 0s - loss: 4.5419 - root_mean_squared_error: 2.1312INFO:tensorflow:Assets written to: model1/assets\n"
     ]
    },
    {
     "name": "stderr",
     "output_type": "stream",
     "text": [
      "INFO:tensorflow:Assets written to: model1/assets\n"
     ]
    },
    {
     "name": "stdout",
     "output_type": "stream",
     "text": [
      "241/241 [==============================] - 2s 8ms/step - loss: 4.5305 - root_mean_squared_error: 2.1285 - val_loss: 0.4237 - val_root_mean_squared_error: 0.6509\n",
      "Epoch 29/50\n",
      "241/241 [==============================] - 0s 2ms/step - loss: 3.6721 - root_mean_squared_error: 1.9163 - val_loss: 0.4419 - val_root_mean_squared_error: 0.6647\n",
      "Epoch 30/50\n",
      "220/241 [==========================>...] - ETA: 0s - loss: 3.0409 - root_mean_squared_error: 1.7438INFO:tensorflow:Assets written to: model1/assets\n"
     ]
    },
    {
     "name": "stderr",
     "output_type": "stream",
     "text": [
      "INFO:tensorflow:Assets written to: model1/assets\n"
     ]
    },
    {
     "name": "stdout",
     "output_type": "stream",
     "text": [
      "241/241 [==============================] - 2s 9ms/step - loss: 3.0157 - root_mean_squared_error: 1.7366 - val_loss: 0.3608 - val_root_mean_squared_error: 0.6006\n",
      "Epoch 31/50\n",
      "241/241 [==============================] - 0s 2ms/step - loss: 2.4966 - root_mean_squared_error: 1.5801 - val_loss: 0.3786 - val_root_mean_squared_error: 0.6153\n",
      "Epoch 32/50\n",
      "241/241 [==============================] - 0s 2ms/step - loss: 2.0971 - root_mean_squared_error: 1.4482 - val_loss: 0.3927 - val_root_mean_squared_error: 0.6267\n",
      "Epoch 33/50\n",
      "240/241 [============================>.] - ETA: 0s - loss: 1.7922 - root_mean_squared_error: 1.3387INFO:tensorflow:Assets written to: model1/assets\n"
     ]
    },
    {
     "name": "stderr",
     "output_type": "stream",
     "text": [
      "INFO:tensorflow:Assets written to: model1/assets\n"
     ]
    },
    {
     "name": "stdout",
     "output_type": "stream",
     "text": [
      "241/241 [==============================] - 2s 8ms/step - loss: 1.7935 - root_mean_squared_error: 1.3392 - val_loss: 0.3255 - val_root_mean_squared_error: 0.5705\n",
      "Epoch 34/50\n",
      "220/241 [==========================>...] - ETA: 0s - loss: 1.5617 - root_mean_squared_error: 1.2497INFO:tensorflow:Assets written to: model1/assets\n"
     ]
    },
    {
     "name": "stderr",
     "output_type": "stream",
     "text": [
      "INFO:tensorflow:Assets written to: model1/assets\n"
     ]
    },
    {
     "name": "stdout",
     "output_type": "stream",
     "text": [
      "241/241 [==============================] - 2s 8ms/step - loss: 1.5599 - root_mean_squared_error: 1.2490 - val_loss: 0.3078 - val_root_mean_squared_error: 0.5548\n",
      "Epoch 35/50\n",
      "241/241 [==============================] - 0s 2ms/step - loss: 1.3742 - root_mean_squared_error: 1.1723 - val_loss: 0.3410 - val_root_mean_squared_error: 0.5839\n",
      "Epoch 36/50\n",
      "241/241 [==============================] - 0s 2ms/step - loss: 1.2306 - root_mean_squared_error: 1.1093 - val_loss: 0.3264 - val_root_mean_squared_error: 0.5713\n",
      "Epoch 37/50\n",
      "221/241 [==========================>...] - ETA: 0s - loss: 1.0966 - root_mean_squared_error: 1.0472INFO:tensorflow:Assets written to: model1/assets\n"
     ]
    },
    {
     "name": "stderr",
     "output_type": "stream",
     "text": [
      "INFO:tensorflow:Assets written to: model1/assets\n"
     ]
    },
    {
     "name": "stdout",
     "output_type": "stream",
     "text": [
      "241/241 [==============================] - 2s 9ms/step - loss: 1.1006 - root_mean_squared_error: 1.0491 - val_loss: 0.2891 - val_root_mean_squared_error: 0.5376\n",
      "Epoch 38/50\n",
      "241/241 [==============================] - 0s 2ms/step - loss: 1.0035 - root_mean_squared_error: 1.0018 - val_loss: 0.3153 - val_root_mean_squared_error: 0.5615\n",
      "Epoch 39/50\n",
      "222/241 [==========================>...] - ETA: 0s - loss: 0.9274 - root_mean_squared_error: 0.9630INFO:tensorflow:Assets written to: model1/assets\n"
     ]
    },
    {
     "name": "stderr",
     "output_type": "stream",
     "text": [
      "INFO:tensorflow:Assets written to: model1/assets\n"
     ]
    },
    {
     "name": "stdout",
     "output_type": "stream",
     "text": [
      "241/241 [==============================] - 2s 8ms/step - loss: 0.9154 - root_mean_squared_error: 0.9568 - val_loss: 0.2658 - val_root_mean_squared_error: 0.5155\n",
      "Epoch 40/50\n",
      "220/241 [==========================>...] - ETA: 0s - loss: 0.8308 - root_mean_squared_error: 0.9115INFO:tensorflow:Assets written to: model1/assets\n"
     ]
    },
    {
     "name": "stderr",
     "output_type": "stream",
     "text": [
      "INFO:tensorflow:Assets written to: model1/assets\n"
     ]
    },
    {
     "name": "stdout",
     "output_type": "stream",
     "text": [
      "241/241 [==============================] - 2s 8ms/step - loss: 0.8317 - root_mean_squared_error: 0.9120 - val_loss: 0.2394 - val_root_mean_squared_error: 0.4893\n",
      "Epoch 41/50\n",
      "222/241 [==========================>...] - ETA: 0s - loss: 0.7607 - root_mean_squared_error: 0.8722INFO:tensorflow:Assets written to: model1/assets\n"
     ]
    },
    {
     "name": "stderr",
     "output_type": "stream",
     "text": [
      "INFO:tensorflow:Assets written to: model1/assets\n"
     ]
    },
    {
     "name": "stdout",
     "output_type": "stream",
     "text": [
      "241/241 [==============================] - 2s 9ms/step - loss: 0.7664 - root_mean_squared_error: 0.8755 - val_loss: 0.2122 - val_root_mean_squared_error: 0.4606\n",
      "Epoch 42/50\n",
      "241/241 [==============================] - 0s 2ms/step - loss: 0.7082 - root_mean_squared_error: 0.8415 - val_loss: 0.2178 - val_root_mean_squared_error: 0.4667\n",
      "Epoch 43/50\n",
      "241/241 [==============================] - 0s 2ms/step - loss: 0.6582 - root_mean_squared_error: 0.8113 - val_loss: 0.2176 - val_root_mean_squared_error: 0.4665\n",
      "Epoch 44/50\n",
      "216/241 [=========================>....] - ETA: 0s - loss: 0.6104 - root_mean_squared_error: 0.7812INFO:tensorflow:Assets written to: model1/assets\n"
     ]
    },
    {
     "name": "stderr",
     "output_type": "stream",
     "text": [
      "INFO:tensorflow:Assets written to: model1/assets\n"
     ]
    },
    {
     "name": "stdout",
     "output_type": "stream",
     "text": [
      "241/241 [==============================] - 2s 8ms/step - loss: 0.6141 - root_mean_squared_error: 0.7837 - val_loss: 0.1872 - val_root_mean_squared_error: 0.4326\n",
      "Epoch 45/50\n",
      "241/241 [==============================] - 1s 2ms/step - loss: 0.5732 - root_mean_squared_error: 0.7571 - val_loss: 0.2059 - val_root_mean_squared_error: 0.4537\n",
      "Epoch 46/50\n",
      "217/241 [==========================>...] - ETA: 0s - loss: 0.5403 - root_mean_squared_error: 0.7351INFO:tensorflow:Assets written to: model1/assets\n"
     ]
    },
    {
     "name": "stderr",
     "output_type": "stream",
     "text": [
      "INFO:tensorflow:Assets written to: model1/assets\n"
     ]
    },
    {
     "name": "stdout",
     "output_type": "stream",
     "text": [
      "241/241 [==============================] - 2s 9ms/step - loss: 0.5425 - root_mean_squared_error: 0.7366 - val_loss: 0.1725 - val_root_mean_squared_error: 0.4153\n",
      "Epoch 47/50\n",
      "241/241 [==============================] - ETA: 0s - loss: 0.5141 - root_mean_squared_error: 0.7170INFO:tensorflow:Assets written to: model1/assets\n"
     ]
    },
    {
     "name": "stderr",
     "output_type": "stream",
     "text": [
      "INFO:tensorflow:Assets written to: model1/assets\n"
     ]
    },
    {
     "name": "stdout",
     "output_type": "stream",
     "text": [
      "241/241 [==============================] - 2s 8ms/step - loss: 0.5141 - root_mean_squared_error: 0.7170 - val_loss: 0.1659 - val_root_mean_squared_error: 0.4073\n",
      "Epoch 48/50\n",
      "241/241 [==============================] - 0s 2ms/step - loss: 0.4944 - root_mean_squared_error: 0.7032 - val_loss: 0.1719 - val_root_mean_squared_error: 0.4146\n",
      "Epoch 49/50\n",
      "241/241 [==============================] - 0s 2ms/step - loss: 0.4690 - root_mean_squared_error: 0.6848 - val_loss: 0.1745 - val_root_mean_squared_error: 0.4178\n",
      "Epoch 50/50\n",
      "241/241 [==============================] - 0s 2ms/step - loss: 0.4497 - root_mean_squared_error: 0.6706 - val_loss: 0.1696 - val_root_mean_squared_error: 0.4118\n"
     ]
    },
    {
     "data": {
      "text/plain": [
       "<keras.src.callbacks.History at 0x7f1ad2f47b90>"
      ]
     },
     "execution_count": 16,
     "metadata": {},
     "output_type": "execute_result"
    }
   ],
   "source": [
    "# Train model\n",
    "\n",
    "model.fit(X_train, y_train, validation_data=(X_val, y_val), epochs=50, callbacks=[cp])"
   ]
  },
  {
   "cell_type": "code",
   "execution_count": 17,
   "metadata": {},
   "outputs": [],
   "source": [
    "# Load best model\n",
    "\n",
    "model = load_model('model/')"
   ]
  },
  {
   "cell_type": "code",
   "execution_count": 18,
   "metadata": {},
   "outputs": [
    {
     "name": "stdout",
     "output_type": "stream",
     "text": [
      "241/241 [==============================] - 0s 833us/step\n"
     ]
    },
    {
     "data": {
      "text/html": [
       "<div>\n",
       "<style scoped>\n",
       "    .dataframe tbody tr th:only-of-type {\n",
       "        vertical-align: middle;\n",
       "    }\n",
       "\n",
       "    .dataframe tbody tr th {\n",
       "        vertical-align: top;\n",
       "    }\n",
       "\n",
       "    .dataframe thead th {\n",
       "        text-align: right;\n",
       "    }\n",
       "</style>\n",
       "<table border=\"1\" class=\"dataframe\">\n",
       "  <thead>\n",
       "    <tr style=\"text-align: right;\">\n",
       "      <th></th>\n",
       "      <th>Train Predictions</th>\n",
       "      <th>Actuals</th>\n",
       "    </tr>\n",
       "  </thead>\n",
       "  <tbody>\n",
       "    <tr>\n",
       "      <th>0</th>\n",
       "      <td>40.533623</td>\n",
       "      <td>41.3</td>\n",
       "    </tr>\n",
       "    <tr>\n",
       "      <th>1</th>\n",
       "      <td>41.893574</td>\n",
       "      <td>42.5</td>\n",
       "    </tr>\n",
       "    <tr>\n",
       "      <th>2</th>\n",
       "      <td>43.219318</td>\n",
       "      <td>43.2</td>\n",
       "    </tr>\n",
       "    <tr>\n",
       "      <th>3</th>\n",
       "      <td>43.841194</td>\n",
       "      <td>43.5</td>\n",
       "    </tr>\n",
       "    <tr>\n",
       "      <th>4</th>\n",
       "      <td>43.742672</td>\n",
       "      <td>43.3</td>\n",
       "    </tr>\n",
       "    <tr>\n",
       "      <th>...</th>\n",
       "      <td>...</td>\n",
       "      <td>...</td>\n",
       "    </tr>\n",
       "    <tr>\n",
       "      <th>7695</th>\n",
       "      <td>43.487942</td>\n",
       "      <td>43.1</td>\n",
       "    </tr>\n",
       "    <tr>\n",
       "      <th>7696</th>\n",
       "      <td>42.905926</td>\n",
       "      <td>42.9</td>\n",
       "    </tr>\n",
       "    <tr>\n",
       "      <th>7697</th>\n",
       "      <td>42.670689</td>\n",
       "      <td>42.6</td>\n",
       "    </tr>\n",
       "    <tr>\n",
       "      <th>7698</th>\n",
       "      <td>42.530212</td>\n",
       "      <td>42.5</td>\n",
       "    </tr>\n",
       "    <tr>\n",
       "      <th>7699</th>\n",
       "      <td>42.459221</td>\n",
       "      <td>42.3</td>\n",
       "    </tr>\n",
       "  </tbody>\n",
       "</table>\n",
       "<p>7700 rows × 2 columns</p>\n",
       "</div>"
      ],
      "text/plain": [
       "      Train Predictions  Actuals\n",
       "0             40.533623     41.3\n",
       "1             41.893574     42.5\n",
       "2             43.219318     43.2\n",
       "3             43.841194     43.5\n",
       "4             43.742672     43.3\n",
       "...                 ...      ...\n",
       "7695          43.487942     43.1\n",
       "7696          42.905926     42.9\n",
       "7697          42.670689     42.6\n",
       "7698          42.530212     42.5\n",
       "7699          42.459221     42.3\n",
       "\n",
       "[7700 rows x 2 columns]"
      ]
     },
     "execution_count": 18,
     "metadata": {},
     "output_type": "execute_result"
    }
   ],
   "source": [
    "# Compare model predictions vs actual values\n",
    "\n",
    "train_predictions = model.predict(X_train).flatten()\n",
    "train_results = pd.DataFrame(data={'Train Predictions':train_predictions, 'Actuals':y_train1})\n",
    "train_results"
   ]
  },
  {
   "cell_type": "code",
   "execution_count": 19,
   "metadata": {},
   "outputs": [
    {
     "data": {
      "text/plain": [
       "[<matplotlib.lines.Line2D at 0x7f1ad0565a10>]"
      ]
     },
     "execution_count": 19,
     "metadata": {},
     "output_type": "execute_result"
    },
    {
     "data": {
      "image/png": "[encoded data removed]",
      "text/plain": [
       "<Figure size 640x480 with 1 Axes>"
      ]
     },
     "metadata": {},
     "output_type": "display_data"
    }
   ],
   "source": [
    "# Plot results for visual representation\n",
    "\n",
    "plt.plot(train_results['Train Predictions'][:])\n",
    "plt.plot(train_results['Actuals'][:])"
   ]
  },
  {
   "cell_type": "code",
   "execution_count": 21,
   "metadata": {},
   "outputs": [
    {
     "data": {
      "text/plain": [
       "[<matplotlib.lines.Line2D at 0x7f1aac6cb590>]"
      ]
     },
     "execution_count": 21,
     "metadata": {},
     "output_type": "execute_result"
    },
    {
     "data": {
      "image/png": "[encoded data removed]",
      "text/plain": [
       "<Figure size 640x480 with 1 Axes>"
      ]
     },
     "metadata": {},
     "output_type": "display_data"
    }
   ],
   "source": [
    "# Plotting deviation from actual temperatures\n",
    "\n",
    "margin = abs(train_results['Actuals'][:] - train_results['Train Predictions'][:])\n",
    "plt.plot(margin)"
   ]
  },
  {
   "cell_type": "code",
   "execution_count": 31,
   "metadata": {},
   "outputs": [],
   "source": [
    "# Define function for plotting windows of time for predictions vs actuals\n",
    "\n",
    "from sklearn.metrics import mean_squared_error as mse\n",
    "\n",
    "def plot_predictions1(model, X, y, start=0, end=100):\n",
    "  predictions = model.predict(X).flatten()\n",
    "  df = pd.DataFrame(data={'Predictions': predictions, 'Actuals':y})\n",
    "  plt.plot(df['Predictions'][start:end])\n",
    "  plt.plot(df['Actuals'][start:end])\n",
    "  return df, mse(predictions, y)"
   ]
  },
  {
   "cell_type": "code",
   "execution_count": 33,
   "metadata": {},
   "outputs": [
    {
     "name": "stdout",
     "output_type": "stream",
     "text": [
      "18/18 [==============================] - 0s 983us/step\n"
     ]
    },
    {
     "data": {
      "text/plain": [
       "(     Predictions  Actuals\n",
       " 0      40.189869     40.0\n",
       " 1      40.045330     39.8\n",
       " 2      39.984615     39.6\n",
       " 3      39.811977     39.5\n",
       " 4      39.703453     39.6\n",
       " ..           ...      ...\n",
       " 544    40.539612     40.7\n",
       " 545    40.549458     40.5\n",
       " 546    40.612793     40.2\n",
       " 547    40.395428     40.0\n",
       " 548    40.153191     39.7\n",
       " \n",
       " [549 rows x 2 columns],\n",
       " 0.20845916564339673)"
      ]
     },
     "execution_count": 33,
     "metadata": {},
     "output_type": "execute_result"
    },
    {
     "data": {
      "image/png": "[encoded data removed]",
      "text/plain": [
       "<Figure size 640x480 with 1 Axes>"
      ]
     },
     "metadata": {},
     "output_type": "display_data"
    }
   ],
   "source": [
    "# Plotting window of 100 hours to have finer detail\n",
    "\n",
    "plot_predictions1(model1, X_test1, y_test1)"
   ]
  }
 ],
 "metadata": {
  "kernelspec": {
   "display_name": "Python 3",
   "language": "python",
   "name": "python3"
  },
  "language_info": {
   "codemirror_mode": {
    "name": "ipython",
    "version": 3
   },
   "file_extension": ".py",
   "mimetype": "text/x-python",
   "name": "python",
   "nbconvert_exporter": "python",
   "pygments_lexer": "ipython3",
   "version": "3.11.5"
  }
 },
 "nbformat": 4,
 "nbformat_minor": 2
}
