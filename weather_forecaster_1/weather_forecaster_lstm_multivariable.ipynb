{
 "cells": [
  {
   "cell_type": "code",
   "execution_count": 61,
   "metadata": {},
   "outputs": [],
   "source": [
    "# This file reads in a csv of hourly normals taken from https://www.ncei.noaa.gov/cdo-web/search from Seatac airport for 2010.\n",
    "# Then preprocesses data before feed hourly temperature normals, and hourly wind direction it to a multivariable LSTM model\n",
    "# to train and use to forecast the temperature.\n",
    "\n",
    "from keras.callbacks import ModelCheckpoint\n",
    "from keras.layers import *\n",
    "from keras.models import load_model\n",
    "from keras.losses import MeanSquaredError\n",
    "from keras.models import Sequential\n",
    "from keras.metrics import RootMeanSquaredError\n",
    "from keras.optimizers import Adam\n",
    "\n",
    "import math\n",
    "import matplotlib.pyplot as plt\n",
    "import pandas as pd\n",
    "import numpy as np\n",
    "import matplotlib"
   ]
  },
  {
   "cell_type": "code",
   "execution_count": 62,
   "metadata": {},
   "outputs": [],
   "source": [
    "# Load data\n",
    "\n",
    "weather = pd.read_csv(\"3588306.csv\", index_col=\"DATE\")"
   ]
  },
  {
   "cell_type": "code",
   "execution_count": 63,
   "metadata": {},
   "outputs": [
    {
     "data": {
      "text/html": [
       "<div>\n",
       "<style scoped>\n",
       "    .dataframe tbody tr th:only-of-type {\n",
       "        vertical-align: middle;\n",
       "    }\n",
       "\n",
       "    .dataframe tbody tr th {\n",
       "        vertical-align: top;\n",
       "    }\n",
       "\n",
       "    .dataframe thead th {\n",
       "        text-align: right;\n",
       "    }\n",
       "</style>\n",
       "<table border=\"1\" class=\"dataframe\">\n",
       "  <thead>\n",
       "    <tr style=\"text-align: right;\">\n",
       "      <th></th>\n",
       "      <th>STATION</th>\n",
       "      <th>NAME</th>\n",
       "      <th>HLY-PRES-NORMAL</th>\n",
       "      <th>HLY-TEMP-NORMAL</th>\n",
       "      <th>HLY-WIND-1STDIR</th>\n",
       "    </tr>\n",
       "    <tr>\n",
       "      <th>DATE</th>\n",
       "      <th></th>\n",
       "      <th></th>\n",
       "      <th></th>\n",
       "      <th></th>\n",
       "      <th></th>\n",
       "    </tr>\n",
       "  </thead>\n",
       "  <tbody>\n",
       "    <tr>\n",
       "      <th>01-01T01:00:00</th>\n",
       "      <td>USW00024233</td>\n",
       "      <td>SEATTLE TACOMA INTERNATIONAL AIRPORT, WA US</td>\n",
       "      <td>1.0</td>\n",
       "      <td>39.2</td>\n",
       "      <td>5</td>\n",
       "    </tr>\n",
       "    <tr>\n",
       "      <th>01-01T02:00:00</th>\n",
       "      <td>USW00024233</td>\n",
       "      <td>SEATTLE TACOMA INTERNATIONAL AIRPORT, WA US</td>\n",
       "      <td>1.0</td>\n",
       "      <td>39.0</td>\n",
       "      <td>5</td>\n",
       "    </tr>\n",
       "    <tr>\n",
       "      <th>01-01T03:00:00</th>\n",
       "      <td>USW00024233</td>\n",
       "      <td>SEATTLE TACOMA INTERNATIONAL AIRPORT, WA US</td>\n",
       "      <td>1.0</td>\n",
       "      <td>38.9</td>\n",
       "      <td>5</td>\n",
       "    </tr>\n",
       "    <tr>\n",
       "      <th>01-01T04:00:00</th>\n",
       "      <td>USW00024233</td>\n",
       "      <td>SEATTLE TACOMA INTERNATIONAL AIRPORT, WA US</td>\n",
       "      <td>1.0</td>\n",
       "      <td>38.8</td>\n",
       "      <td>5</td>\n",
       "    </tr>\n",
       "    <tr>\n",
       "      <th>01-01T05:00:00</th>\n",
       "      <td>USW00024233</td>\n",
       "      <td>SEATTLE TACOMA INTERNATIONAL AIRPORT, WA US</td>\n",
       "      <td>1.0</td>\n",
       "      <td>38.7</td>\n",
       "      <td>5</td>\n",
       "    </tr>\n",
       "    <tr>\n",
       "      <th>...</th>\n",
       "      <td>...</td>\n",
       "      <td>...</td>\n",
       "      <td>...</td>\n",
       "      <td>...</td>\n",
       "      <td>...</td>\n",
       "    </tr>\n",
       "    <tr>\n",
       "      <th>12-31T19:00:00</th>\n",
       "      <td>USW00024233</td>\n",
       "      <td>SEATTLE TACOMA INTERNATIONAL AIRPORT, WA US</td>\n",
       "      <td>1.0</td>\n",
       "      <td>40.7</td>\n",
       "      <td>5</td>\n",
       "    </tr>\n",
       "    <tr>\n",
       "      <th>12-31T20:00:00</th>\n",
       "      <td>USW00024233</td>\n",
       "      <td>SEATTLE TACOMA INTERNATIONAL AIRPORT, WA US</td>\n",
       "      <td>1.0</td>\n",
       "      <td>40.5</td>\n",
       "      <td>5</td>\n",
       "    </tr>\n",
       "    <tr>\n",
       "      <th>12-31T21:00:00</th>\n",
       "      <td>USW00024233</td>\n",
       "      <td>SEATTLE TACOMA INTERNATIONAL AIRPORT, WA US</td>\n",
       "      <td>1.0</td>\n",
       "      <td>40.2</td>\n",
       "      <td>5</td>\n",
       "    </tr>\n",
       "    <tr>\n",
       "      <th>12-31T22:00:00</th>\n",
       "      <td>USW00024233</td>\n",
       "      <td>SEATTLE TACOMA INTERNATIONAL AIRPORT, WA US</td>\n",
       "      <td>1.0</td>\n",
       "      <td>40.0</td>\n",
       "      <td>5</td>\n",
       "    </tr>\n",
       "    <tr>\n",
       "      <th>12-31T23:00:00</th>\n",
       "      <td>USW00024233</td>\n",
       "      <td>SEATTLE TACOMA INTERNATIONAL AIRPORT, WA US</td>\n",
       "      <td>1.0</td>\n",
       "      <td>39.7</td>\n",
       "      <td>5</td>\n",
       "    </tr>\n",
       "  </tbody>\n",
       "</table>\n",
       "<p>8759 rows × 5 columns</p>\n",
       "</div>"
      ],
      "text/plain": [
       "                    STATION                                         NAME  \\\n",
       "DATE                                                                       \n",
       "01-01T01:00:00  USW00024233  SEATTLE TACOMA INTERNATIONAL AIRPORT, WA US   \n",
       "01-01T02:00:00  USW00024233  SEATTLE TACOMA INTERNATIONAL AIRPORT, WA US   \n",
       "01-01T03:00:00  USW00024233  SEATTLE TACOMA INTERNATIONAL AIRPORT, WA US   \n",
       "01-01T04:00:00  USW00024233  SEATTLE TACOMA INTERNATIONAL AIRPORT, WA US   \n",
       "01-01T05:00:00  USW00024233  SEATTLE TACOMA INTERNATIONAL AIRPORT, WA US   \n",
       "...                     ...                                          ...   \n",
       "12-31T19:00:00  USW00024233  SEATTLE TACOMA INTERNATIONAL AIRPORT, WA US   \n",
       "12-31T20:00:00  USW00024233  SEATTLE TACOMA INTERNATIONAL AIRPORT, WA US   \n",
       "12-31T21:00:00  USW00024233  SEATTLE TACOMA INTERNATIONAL AIRPORT, WA US   \n",
       "12-31T22:00:00  USW00024233  SEATTLE TACOMA INTERNATIONAL AIRPORT, WA US   \n",
       "12-31T23:00:00  USW00024233  SEATTLE TACOMA INTERNATIONAL AIRPORT, WA US   \n",
       "\n",
       "                HLY-PRES-NORMAL  HLY-TEMP-NORMAL  HLY-WIND-1STDIR  \n",
       "DATE                                                               \n",
       "01-01T01:00:00              1.0             39.2                5  \n",
       "01-01T02:00:00              1.0             39.0                5  \n",
       "01-01T03:00:00              1.0             38.9                5  \n",
       "01-01T04:00:00              1.0             38.8                5  \n",
       "01-01T05:00:00              1.0             38.7                5  \n",
       "...                         ...              ...              ...  \n",
       "12-31T19:00:00              1.0             40.7                5  \n",
       "12-31T20:00:00              1.0             40.5                5  \n",
       "12-31T21:00:00              1.0             40.2                5  \n",
       "12-31T22:00:00              1.0             40.0                5  \n",
       "12-31T23:00:00              1.0             39.7                5  \n",
       "\n",
       "[8759 rows x 5 columns]"
      ]
     },
     "execution_count": 63,
     "metadata": {},
     "output_type": "execute_result"
    }
   ],
   "source": [
    "weather"
   ]
  },
  {
   "cell_type": "code",
   "execution_count": 64,
   "metadata": {},
   "outputs": [],
   "source": [
    "# Remove unused data points\n",
    "\n",
    "del weather[\"HLY-PRES-NORMAL\"]\n",
    "del weather[\"STATION\"]\n",
    "del weather[\"NAME\"]"
   ]
  },
  {
   "cell_type": "code",
   "execution_count": 65,
   "metadata": {},
   "outputs": [
    {
     "data": {
      "text/html": [
       "<div>\n",
       "<style scoped>\n",
       "    .dataframe tbody tr th:only-of-type {\n",
       "        vertical-align: middle;\n",
       "    }\n",
       "\n",
       "    .dataframe tbody tr th {\n",
       "        vertical-align: top;\n",
       "    }\n",
       "\n",
       "    .dataframe thead th {\n",
       "        text-align: right;\n",
       "    }\n",
       "</style>\n",
       "<table border=\"1\" class=\"dataframe\">\n",
       "  <thead>\n",
       "    <tr style=\"text-align: right;\">\n",
       "      <th></th>\n",
       "      <th>HLY-TEMP-NORMAL</th>\n",
       "      <th>HLY-WIND-1STDIR</th>\n",
       "    </tr>\n",
       "    <tr>\n",
       "      <th>DATE</th>\n",
       "      <th></th>\n",
       "      <th></th>\n",
       "    </tr>\n",
       "  </thead>\n",
       "  <tbody>\n",
       "    <tr>\n",
       "      <th>01-01T01:00:00</th>\n",
       "      <td>39.2</td>\n",
       "      <td>5</td>\n",
       "    </tr>\n",
       "    <tr>\n",
       "      <th>01-01T02:00:00</th>\n",
       "      <td>39.0</td>\n",
       "      <td>5</td>\n",
       "    </tr>\n",
       "    <tr>\n",
       "      <th>01-01T03:00:00</th>\n",
       "      <td>38.9</td>\n",
       "      <td>5</td>\n",
       "    </tr>\n",
       "    <tr>\n",
       "      <th>01-01T04:00:00</th>\n",
       "      <td>38.8</td>\n",
       "      <td>5</td>\n",
       "    </tr>\n",
       "    <tr>\n",
       "      <th>01-01T05:00:00</th>\n",
       "      <td>38.7</td>\n",
       "      <td>5</td>\n",
       "    </tr>\n",
       "    <tr>\n",
       "      <th>...</th>\n",
       "      <td>...</td>\n",
       "      <td>...</td>\n",
       "    </tr>\n",
       "    <tr>\n",
       "      <th>12-31T19:00:00</th>\n",
       "      <td>40.7</td>\n",
       "      <td>5</td>\n",
       "    </tr>\n",
       "    <tr>\n",
       "      <th>12-31T20:00:00</th>\n",
       "      <td>40.5</td>\n",
       "      <td>5</td>\n",
       "    </tr>\n",
       "    <tr>\n",
       "      <th>12-31T21:00:00</th>\n",
       "      <td>40.2</td>\n",
       "      <td>5</td>\n",
       "    </tr>\n",
       "    <tr>\n",
       "      <th>12-31T22:00:00</th>\n",
       "      <td>40.0</td>\n",
       "      <td>5</td>\n",
       "    </tr>\n",
       "    <tr>\n",
       "      <th>12-31T23:00:00</th>\n",
       "      <td>39.7</td>\n",
       "      <td>5</td>\n",
       "    </tr>\n",
       "  </tbody>\n",
       "</table>\n",
       "<p>8759 rows × 2 columns</p>\n",
       "</div>"
      ],
      "text/plain": [
       "                HLY-TEMP-NORMAL  HLY-WIND-1STDIR\n",
       "DATE                                            \n",
       "01-01T01:00:00             39.2                5\n",
       "01-01T02:00:00             39.0                5\n",
       "01-01T03:00:00             38.9                5\n",
       "01-01T04:00:00             38.8                5\n",
       "01-01T05:00:00             38.7                5\n",
       "...                         ...              ...\n",
       "12-31T19:00:00             40.7                5\n",
       "12-31T20:00:00             40.5                5\n",
       "12-31T21:00:00             40.2                5\n",
       "12-31T22:00:00             40.0                5\n",
       "12-31T23:00:00             39.7                5\n",
       "\n",
       "[8759 rows x 2 columns]"
      ]
     },
     "execution_count": 65,
     "metadata": {},
     "output_type": "execute_result"
    }
   ],
   "source": [
    "weather"
   ]
  },
  {
   "cell_type": "code",
   "execution_count": 66,
   "metadata": {},
   "outputs": [
    {
     "data": {
      "text/plain": [
       "HLY-TEMP-NORMAL    0\n",
       "HLY-WIND-1STDIR    0\n",
       "dtype: int64"
      ]
     },
     "execution_count": 66,
     "metadata": {},
     "output_type": "execute_result"
    }
   ],
   "source": [
    "# Check for NAN vals\n",
    "\n",
    "weather.apply(pd.isnull).sum()"
   ]
  },
  {
   "cell_type": "code",
   "execution_count": 67,
   "metadata": {},
   "outputs": [
    {
     "data": {
      "text/plain": [
       "<Axes: xlabel='DATE'>"
      ]
     },
     "execution_count": 67,
     "metadata": {},
     "output_type": "execute_result"
    },
    {
     "data": {
      "image/png": "[encoded data removed]",
      "text/plain": [
       "<Figure size 640x480 with 1 Axes>"
      ]
     },
     "metadata": {},
     "output_type": "display_data"
    }
   ],
   "source": [
    "# Take a look at data using\n",
    "\n",
    "weather[[\"HLY-TEMP-NORMAL\", \"HLY-WIND-1STDIR\"]].plot()"
   ]
  },
  {
   "cell_type": "code",
   "execution_count": 75,
   "metadata": {},
   "outputs": [],
   "source": [
    "# Function to create sliding window of past data points to feed model\n",
    "# [[[t1, ws1], [t2, ws2], ... [t10, ws10]]] [t11]\n",
    "\n",
    "def df_to_X_y(df, window_size=10):\n",
    "  df_as_np = df.to_numpy()\n",
    "  X = []\n",
    "  y = []\n",
    "  for i in range(len(df_as_np)-window_size):\n",
    "    row = [r for r in df_as_np[i:i+window_size]]\n",
    "    X.append(row)\n",
    "    label = df_as_np[i+window_size][0]\n",
    "    y.append(label)\n",
    "  return np.array(X), np.array(y)"
   ]
  },
  {
   "cell_type": "code",
   "execution_count": 69,
   "metadata": {},
   "outputs": [
    {
     "data": {
      "text/plain": [
       "((8749, 10, 2), (8749,))"
      ]
     },
     "execution_count": 69,
     "metadata": {},
     "output_type": "execute_result"
    }
   ],
   "source": [
    "# Generate data, X is the window we use with each row being 10 arrays with 2 variable each to predict the temp of the same row in y\n",
    "\n",
    "X, y = df_to_X_y(weather)\n",
    "X.shape, y.shape"
   ]
  },
  {
   "cell_type": "code",
   "execution_count": 70,
   "metadata": {},
   "outputs": [
    {
     "data": {
      "text/plain": [
       "((7700, 10, 2), (7700,), (500, 10, 2), (500,), (549, 10, 2), (549,))"
      ]
     },
     "execution_count": 70,
     "metadata": {},
     "output_type": "execute_result"
    }
   ],
   "source": [
    "# Break up data into training, validation, and test sets\n",
    "\n",
    "X_train, y_train = X[:7700], y[:7700]\n",
    "X_val, y_val = X[7700:8200], y[7700:8200]\n",
    "X_test, y_test = X[8200:], y[8200:]\n",
    "X_train.shape, y_train.shape, X_val.shape, y_val.shape, X_test.shape, y_test.shape"
   ]
  },
  {
   "cell_type": "code",
   "execution_count": 72,
   "metadata": {},
   "outputs": [],
   "source": [
    "# Processing temps into standardized normal distribution\n",
    "\n",
    "weather_training_mean = np.mean(X_train[:, :, 0])\n",
    "weather_training_std = np.std(X_train[:, :, 0])\n",
    "\n",
    "def preprocess(X):\n",
    "  X[:, :, 0] = (X[:, :, 0] - weather_training_mean) / weather_training_std \n",
    "  return X"
   ]
  },
  {
   "cell_type": "code",
   "execution_count": 73,
   "metadata": {},
   "outputs": [
    {
     "data": {
      "text/plain": [
       "array([[[-1.18187255,  5.        ],\n",
       "        [-1.22479284,  5.        ],\n",
       "        [-1.25698307,  5.        ],\n",
       "        ...,\n",
       "        [-1.33209359,  5.        ],\n",
       "        [-1.40720411,  5.        ],\n",
       "        [-1.42866426,  5.        ]],\n",
       "\n",
       "       [[-1.22479284,  5.        ],\n",
       "        [-1.25698307,  5.        ],\n",
       "        [-1.26771314,  5.        ],\n",
       "        ...,\n",
       "        [-1.40720411,  5.        ],\n",
       "        [-1.42866426,  5.        ],\n",
       "        [-1.45012441,  5.        ]],\n",
       "\n",
       "       [[-1.25698307,  5.        ],\n",
       "        [-1.26771314,  5.        ],\n",
       "        [-1.31063344,  5.        ],\n",
       "        ...,\n",
       "        [-1.42866426,  5.        ],\n",
       "        [-1.45012441,  5.        ],\n",
       "        [-1.47158455,  5.        ]],\n",
       "\n",
       "       ...,\n",
       "\n",
       "       [[-1.32136351,  5.        ],\n",
       "        [-1.20333269,  5.        ],\n",
       "        [-1.12822217,  5.        ],\n",
       "        ...,\n",
       "        [-1.34282366,  5.        ],\n",
       "        [-1.37501388,  5.        ],\n",
       "        [-1.39647403,  5.        ]],\n",
       "\n",
       "       [[-1.20333269,  5.        ],\n",
       "        [-1.12822217,  5.        ],\n",
       "        [-1.09603195,  5.        ],\n",
       "        ...,\n",
       "        [-1.37501388,  5.        ],\n",
       "        [-1.39647403,  5.        ],\n",
       "        [-1.42866426,  5.        ]],\n",
       "\n",
       "       [[-1.12822217,  5.        ],\n",
       "        [-1.09603195,  5.        ],\n",
       "        [-1.1174921 ,  5.        ],\n",
       "        ...,\n",
       "        [-1.39647403,  5.        ],\n",
       "        [-1.42866426,  5.        ],\n",
       "        [-1.45012441,  5.        ]]])"
      ]
     },
     "execution_count": 73,
     "metadata": {},
     "output_type": "execute_result"
    }
   ],
   "source": [
    "preprocess(X_train)\n",
    "preprocess(X_val)\n",
    "preprocess(X_test)"
   ]
  },
  {
   "cell_type": "code",
   "execution_count": 43,
   "metadata": {},
   "outputs": [
    {
     "name": "stdout",
     "output_type": "stream",
     "text": [
      "Model: \"sequential_2\"\n",
      "_________________________________________________________________\n",
      " Layer (type)                Output Shape              Param #   \n",
      "=================================================================\n",
      " lstm_2 (LSTM)               (None, 64)                17152     \n",
      "                                                                 \n",
      " dense_4 (Dense)             (None, 8)                 520       \n",
      "                                                                 \n",
      " dense_5 (Dense)             (None, 1)                 9         \n",
      "                                                                 \n",
      "=================================================================\n",
      "Total params: 17681 (69.07 KB)\n",
      "Trainable params: 17681 (69.07 KB)\n",
      "Non-trainable params: 0 (0.00 Byte)\n",
      "_________________________________________________________________\n"
     ]
    }
   ],
   "source": [
    "# Define LSTM model using using window size 10 for 2 variable inputs\n",
    "\n",
    "model = Sequential()\n",
    "model.add(InputLayer((10, 2)))\n",
    "model.add(LSTM(64))\n",
    "model.add(Dense(8, 'relu'))\n",
    "model.add(Dense(1, 'linear'))\n",
    "model.summary()"
   ]
  },
  {
   "cell_type": "code",
   "execution_count": 44,
   "metadata": {},
   "outputs": [],
   "source": [
    "# Create model checkpoint to save best model, then finally compile model\n",
    "\n",
    "cp = ModelCheckpoint('model/', save_best_only=True)\n",
    "model.compile(loss=MeanSquaredError(), optimizer=Adam(learning_rate=0.0001), metrics=[RootMeanSquaredError()])"
   ]
  },
  {
   "cell_type": "code",
   "execution_count": 45,
   "metadata": {},
   "outputs": [
    {
     "name": "stdout",
     "output_type": "stream",
     "text": [
      "Epoch 1/50\n",
      "218/241 [==========================>...] - ETA: 0s - loss: 2932.0393 - root_mean_squared_error: 54.1483INFO:tensorflow:Assets written to: model/assets\n"
     ]
    },
    {
     "name": "stderr",
     "output_type": "stream",
     "text": [
      "INFO:tensorflow:Assets written to: model/assets\n"
     ]
    },
    {
     "name": "stdout",
     "output_type": "stream",
     "text": [
      "241/241 [==============================] - 3s 9ms/step - loss: 2930.7556 - root_mean_squared_error: 54.1365 - val_loss: 1719.7119 - val_root_mean_squared_error: 41.4694\n",
      "Epoch 2/50\n",
      "221/241 [==========================>...] - ETA: 0s - loss: 2650.6987 - root_mean_squared_error: 51.4849INFO:tensorflow:Assets written to: model/assets\n"
     ]
    },
    {
     "name": "stderr",
     "output_type": "stream",
     "text": [
      "INFO:tensorflow:Assets written to: model/assets\n"
     ]
    },
    {
     "name": "stdout",
     "output_type": "stream",
     "text": [
      "241/241 [==============================] - 2s 8ms/step - loss: 2629.7380 - root_mean_squared_error: 51.2810 - val_loss: 1362.2479 - val_root_mean_squared_error: 36.9086\n",
      "Epoch 3/50\n",
      "222/241 [==========================>...] - ETA: 0s - loss: 2217.0842 - root_mean_squared_error: 47.0859INFO:tensorflow:Assets written to: model/assets\n"
     ]
    },
    {
     "name": "stderr",
     "output_type": "stream",
     "text": [
      "INFO:tensorflow:Assets written to: model/assets\n"
     ]
    },
    {
     "name": "stdout",
     "output_type": "stream",
     "text": [
      "241/241 [==============================] - 2s 8ms/step - loss: 2206.3442 - root_mean_squared_error: 46.9717 - val_loss: 1104.8077 - val_root_mean_squared_error: 33.2386\n",
      "Epoch 4/50\n",
      "225/241 [===========================>..] - ETA: 0s - loss: 1927.1296 - root_mean_squared_error: 43.8991INFO:tensorflow:Assets written to: model/assets\n"
     ]
    },
    {
     "name": "stderr",
     "output_type": "stream",
     "text": [
      "INFO:tensorflow:Assets written to: model/assets\n"
     ]
    },
    {
     "name": "stdout",
     "output_type": "stream",
     "text": [
      "241/241 [==============================] - 2s 9ms/step - loss: 1918.8268 - root_mean_squared_error: 43.8044 - val_loss: 916.0043 - val_root_mean_squared_error: 30.2656\n",
      "Epoch 5/50\n",
      "223/241 [==========================>...] - ETA: 0s - loss: 1687.0874 - root_mean_squared_error: 41.0742INFO:tensorflow:Assets written to: model/assets\n"
     ]
    },
    {
     "name": "stderr",
     "output_type": "stream",
     "text": [
      "INFO:tensorflow:Assets written to: model/assets\n"
     ]
    },
    {
     "name": "stdout",
     "output_type": "stream",
     "text": [
      "241/241 [==============================] - 2s 8ms/step - loss: 1680.6123 - root_mean_squared_error: 40.9953 - val_loss: 756.2267 - val_root_mean_squared_error: 27.4996\n",
      "Epoch 6/50\n",
      "221/241 [==========================>...] - ETA: 0s - loss: 1465.2438 - root_mean_squared_error: 38.2785INFO:tensorflow:Assets written to: model/assets\n"
     ]
    },
    {
     "name": "stderr",
     "output_type": "stream",
     "text": [
      "INFO:tensorflow:Assets written to: model/assets\n"
     ]
    },
    {
     "name": "stdout",
     "output_type": "stream",
     "text": [
      "241/241 [==============================] - 2s 8ms/step - loss: 1455.9634 - root_mean_squared_error: 38.1571 - val_loss: 601.6019 - val_root_mean_squared_error: 24.5276\n",
      "Epoch 7/50\n",
      "221/241 [==========================>...] - ETA: 0s - loss: 1250.4032 - root_mean_squared_error: 35.3610INFO:tensorflow:Assets written to: model/assets\n"
     ]
    },
    {
     "name": "stderr",
     "output_type": "stream",
     "text": [
      "INFO:tensorflow:Assets written to: model/assets\n"
     ]
    },
    {
     "name": "stdout",
     "output_type": "stream",
     "text": [
      "241/241 [==============================] - 2s 9ms/step - loss: 1248.8114 - root_mean_squared_error: 35.3385 - val_loss: 471.5176 - val_root_mean_squared_error: 21.7145\n",
      "Epoch 8/50\n",
      "237/241 [============================>.] - ETA: 0s - loss: 1066.2075 - root_mean_squared_error: 32.6528INFO:tensorflow:Assets written to: model/assets\n"
     ]
    },
    {
     "name": "stderr",
     "output_type": "stream",
     "text": [
      "INFO:tensorflow:Assets written to: model/assets\n"
     ]
    },
    {
     "name": "stdout",
     "output_type": "stream",
     "text": [
      "241/241 [==============================] - 2s 8ms/step - loss: 1063.8021 - root_mean_squared_error: 32.6160 - val_loss: 356.5813 - val_root_mean_squared_error: 18.8834\n",
      "Epoch 9/50\n",
      "225/241 [===========================>..] - ETA: 0s - loss: 890.5687 - root_mean_squared_error: 29.8424INFO:tensorflow:Assets written to: model/assets\n"
     ]
    },
    {
     "name": "stderr",
     "output_type": "stream",
     "text": [
      "INFO:tensorflow:Assets written to: model/assets\n"
     ]
    },
    {
     "name": "stdout",
     "output_type": "stream",
     "text": [
      "241/241 [==============================] - 2s 8ms/step - loss: 887.9196 - root_mean_squared_error: 29.7980 - val_loss: 251.6715 - val_root_mean_squared_error: 15.8642\n",
      "Epoch 10/50\n",
      "218/241 [==========================>...] - ETA: 0s - loss: 739.0978 - root_mean_squared_error: 27.1864INFO:tensorflow:Assets written to: model/assets\n"
     ]
    },
    {
     "name": "stderr",
     "output_type": "stream",
     "text": [
      "INFO:tensorflow:Assets written to: model/assets\n"
     ]
    },
    {
     "name": "stdout",
     "output_type": "stream",
     "text": [
      "241/241 [==============================] - 2s 8ms/step - loss: 728.5549 - root_mean_squared_error: 26.9918 - val_loss: 168.1217 - val_root_mean_squared_error: 12.9662\n",
      "Epoch 11/50\n",
      "221/241 [==========================>...] - ETA: 0s - loss: 594.6999 - root_mean_squared_error: 24.3865INFO:tensorflow:Assets written to: model/assets\n"
     ]
    },
    {
     "name": "stderr",
     "output_type": "stream",
     "text": [
      "INFO:tensorflow:Assets written to: model/assets\n"
     ]
    },
    {
     "name": "stdout",
     "output_type": "stream",
     "text": [
      "241/241 [==============================] - 2s 8ms/step - loss: 590.2432 - root_mean_squared_error: 24.2949 - val_loss: 102.7565 - val_root_mean_squared_error: 10.1369\n",
      "Epoch 12/50\n",
      "223/241 [==========================>...] - ETA: 0s - loss: 473.5963 - root_mean_squared_error: 21.7623INFO:tensorflow:Assets written to: model/assets\n"
     ]
    },
    {
     "name": "stderr",
     "output_type": "stream",
     "text": [
      "INFO:tensorflow:Assets written to: model/assets\n"
     ]
    },
    {
     "name": "stdout",
     "output_type": "stream",
     "text": [
      "241/241 [==============================] - 2s 9ms/step - loss: 470.8330 - root_mean_squared_error: 21.6987 - val_loss: 54.8113 - val_root_mean_squared_error: 7.4035\n",
      "Epoch 13/50\n",
      "221/241 [==========================>...] - ETA: 0s - loss: 374.3111 - root_mean_squared_error: 19.3471INFO:tensorflow:Assets written to: model/assets\n"
     ]
    },
    {
     "name": "stderr",
     "output_type": "stream",
     "text": [
      "INFO:tensorflow:Assets written to: model/assets\n"
     ]
    },
    {
     "name": "stdout",
     "output_type": "stream",
     "text": [
      "241/241 [==============================] - 2s 8ms/step - loss: 370.2402 - root_mean_squared_error: 19.2416 - val_loss: 23.4047 - val_root_mean_squared_error: 4.8378\n",
      "Epoch 14/50\n",
      "241/241 [==============================] - ETA: 0s - loss: 288.1680 - root_mean_squared_error: 16.9755INFO:tensorflow:Assets written to: model/assets\n"
     ]
    },
    {
     "name": "stderr",
     "output_type": "stream",
     "text": [
      "INFO:tensorflow:Assets written to: model/assets\n"
     ]
    },
    {
     "name": "stdout",
     "output_type": "stream",
     "text": [
      "241/241 [==============================] - 2s 8ms/step - loss: 288.1680 - root_mean_squared_error: 16.9755 - val_loss: 7.1745 - val_root_mean_squared_error: 2.6785\n",
      "Epoch 15/50\n",
      "221/241 [==========================>...] - ETA: 0s - loss: 224.9227 - root_mean_squared_error: 14.9974INFO:tensorflow:Assets written to: model/assets\n"
     ]
    },
    {
     "name": "stderr",
     "output_type": "stream",
     "text": [
      "INFO:tensorflow:Assets written to: model/assets\n"
     ]
    },
    {
     "name": "stdout",
     "output_type": "stream",
     "text": [
      "241/241 [==============================] - 2s 9ms/step - loss: 223.6150 - root_mean_squared_error: 14.9538 - val_loss: 4.0190 - val_root_mean_squared_error: 2.0047\n",
      "Epoch 16/50\n",
      "241/241 [==============================] - 0s 2ms/step - loss: 175.0508 - root_mean_squared_error: 13.2307 - val_loss: 11.2178 - val_root_mean_squared_error: 3.3493\n",
      "Epoch 17/50\n",
      "241/241 [==============================] - 0s 2ms/step - loss: 140.4095 - root_mean_squared_error: 11.8495 - val_loss: 25.7103 - val_root_mean_squared_error: 5.0705\n",
      "Epoch 18/50\n",
      "241/241 [==============================] - 0s 2ms/step - loss: 117.1465 - root_mean_squared_error: 10.8234 - val_loss: 44.0465 - val_root_mean_squared_error: 6.6368\n",
      "Epoch 19/50\n",
      "241/241 [==============================] - 0s 2ms/step - loss: 102.6150 - root_mean_squared_error: 10.1299 - val_loss: 63.6102 - val_root_mean_squared_error: 7.9756\n",
      "Epoch 20/50\n",
      "241/241 [==============================] - 0s 2ms/step - loss: 94.3485 - root_mean_squared_error: 9.7133 - val_loss: 81.4046 - val_root_mean_squared_error: 9.0224\n",
      "Epoch 21/50\n",
      "241/241 [==============================] - 0s 2ms/step - loss: 90.0303 - root_mean_squared_error: 9.4884 - val_loss: 96.3489 - val_root_mean_squared_error: 9.8157\n",
      "Epoch 22/50\n",
      "241/241 [==============================] - 0s 2ms/step - loss: 84.4856 - root_mean_squared_error: 9.1916 - val_loss: 66.6205 - val_root_mean_squared_error: 8.1621\n",
      "Epoch 23/50\n",
      "241/241 [==============================] - 0s 2ms/step - loss: 67.0534 - root_mean_squared_error: 8.1886 - val_loss: 42.1588 - val_root_mean_squared_error: 6.4930\n",
      "Epoch 24/50\n",
      "241/241 [==============================] - 0s 2ms/step - loss: 53.4709 - root_mean_squared_error: 7.3124 - val_loss: 22.3694 - val_root_mean_squared_error: 4.7296\n",
      "Epoch 25/50\n",
      "241/241 [==============================] - 0s 2ms/step - loss: 40.5695 - root_mean_squared_error: 6.3694 - val_loss: 15.5264 - val_root_mean_squared_error: 3.9404\n",
      "Epoch 26/50\n",
      "241/241 [==============================] - 0s 2ms/step - loss: 30.6953 - root_mean_squared_error: 5.5403 - val_loss: 10.9322 - val_root_mean_squared_error: 3.3064\n",
      "Epoch 27/50\n",
      "241/241 [==============================] - 0s 2ms/step - loss: 23.3372 - root_mean_squared_error: 4.8309 - val_loss: 7.0084 - val_root_mean_squared_error: 2.6473\n",
      "Epoch 28/50\n",
      "222/241 [==========================>...] - ETA: 0s - loss: 17.8834 - root_mean_squared_error: 4.2289INFO:tensorflow:Assets written to: model/assets\n"
     ]
    },
    {
     "name": "stderr",
     "output_type": "stream",
     "text": [
      "INFO:tensorflow:Assets written to: model/assets\n"
     ]
    },
    {
     "name": "stdout",
     "output_type": "stream",
     "text": [
      "241/241 [==============================] - 2s 7ms/step - loss: 17.8437 - root_mean_squared_error: 4.2242 - val_loss: 3.8187 - val_root_mean_squared_error: 1.9541\n",
      "Epoch 29/50\n",
      "241/241 [==============================] - ETA: 0s - loss: 13.6200 - root_mean_squared_error: 3.6905INFO:tensorflow:Assets written to: model/assets\n"
     ]
    },
    {
     "name": "stderr",
     "output_type": "stream",
     "text": [
      "INFO:tensorflow:Assets written to: model/assets\n"
     ]
    },
    {
     "name": "stdout",
     "output_type": "stream",
     "text": [
      "241/241 [==============================] - 2s 8ms/step - loss: 13.6200 - root_mean_squared_error: 3.6905 - val_loss: 2.5432 - val_root_mean_squared_error: 1.5948\n",
      "Epoch 30/50\n",
      "218/241 [==========================>...] - ETA: 0s - loss: 10.8160 - root_mean_squared_error: 3.2888INFO:tensorflow:Assets written to: model/assets\n"
     ]
    },
    {
     "name": "stderr",
     "output_type": "stream",
     "text": [
      "INFO:tensorflow:Assets written to: model/assets\n"
     ]
    },
    {
     "name": "stdout",
     "output_type": "stream",
     "text": [
      "241/241 [==============================] - 2s 9ms/step - loss: 10.7570 - root_mean_squared_error: 3.2798 - val_loss: 1.7420 - val_root_mean_squared_error: 1.3198\n",
      "Epoch 31/50\n",
      "222/241 [==========================>...] - ETA: 0s - loss: 8.6199 - root_mean_squared_error: 2.9360INFO:tensorflow:Assets written to: model/assets\n"
     ]
    },
    {
     "name": "stderr",
     "output_type": "stream",
     "text": [
      "INFO:tensorflow:Assets written to: model/assets\n"
     ]
    },
    {
     "name": "stdout",
     "output_type": "stream",
     "text": [
      "241/241 [==============================] - 2s 8ms/step - loss: 8.5641 - root_mean_squared_error: 2.9264 - val_loss: 1.2569 - val_root_mean_squared_error: 1.1211\n",
      "Epoch 32/50\n",
      "220/241 [==========================>...] - ETA: 0s - loss: 6.9078 - root_mean_squared_error: 2.6283INFO:tensorflow:Assets written to: model/assets\n"
     ]
    },
    {
     "name": "stderr",
     "output_type": "stream",
     "text": [
      "INFO:tensorflow:Assets written to: model/assets\n"
     ]
    },
    {
     "name": "stdout",
     "output_type": "stream",
     "text": [
      "241/241 [==============================] - 2s 8ms/step - loss: 6.8576 - root_mean_squared_error: 2.6187 - val_loss: 0.8453 - val_root_mean_squared_error: 0.9194\n",
      "Epoch 33/50\n",
      "241/241 [==============================] - 0s 2ms/step - loss: 5.4218 - root_mean_squared_error: 2.3285 - val_loss: 0.8767 - val_root_mean_squared_error: 0.9363\n",
      "Epoch 34/50\n",
      "225/241 [===========================>..] - ETA: 0s - loss: 4.2994 - root_mean_squared_error: 2.0735INFO:tensorflow:Assets written to: model/assets\n"
     ]
    },
    {
     "name": "stderr",
     "output_type": "stream",
     "text": [
      "INFO:tensorflow:Assets written to: model/assets\n"
     ]
    },
    {
     "name": "stdout",
     "output_type": "stream",
     "text": [
      "241/241 [==============================] - 2s 9ms/step - loss: 4.2832 - root_mean_squared_error: 2.0696 - val_loss: 0.7136 - val_root_mean_squared_error: 0.8448\n",
      "Epoch 35/50\n",
      "219/241 [==========================>...] - ETA: 0s - loss: 3.4859 - root_mean_squared_error: 1.8671INFO:tensorflow:Assets written to: model/assets\n"
     ]
    },
    {
     "name": "stderr",
     "output_type": "stream",
     "text": [
      "INFO:tensorflow:Assets written to: model/assets\n"
     ]
    },
    {
     "name": "stdout",
     "output_type": "stream",
     "text": [
      "241/241 [==============================] - 2s 8ms/step - loss: 3.4818 - root_mean_squared_error: 1.8660 - val_loss: 0.6487 - val_root_mean_squared_error: 0.8054\n",
      "Epoch 36/50\n",
      "241/241 [==============================] - 0s 2ms/step - loss: 2.8510 - root_mean_squared_error: 1.6885 - val_loss: 0.6503 - val_root_mean_squared_error: 0.8064\n",
      "Epoch 37/50\n",
      "222/241 [==========================>...] - ETA: 0s - loss: 2.3744 - root_mean_squared_error: 1.5409INFO:tensorflow:Assets written to: model/assets\n"
     ]
    },
    {
     "name": "stderr",
     "output_type": "stream",
     "text": [
      "INFO:tensorflow:Assets written to: model/assets\n"
     ]
    },
    {
     "name": "stdout",
     "output_type": "stream",
     "text": [
      "241/241 [==============================] - 2s 7ms/step - loss: 2.3741 - root_mean_squared_error: 1.5408 - val_loss: 0.5825 - val_root_mean_squared_error: 0.7632\n",
      "Epoch 38/50\n",
      "218/241 [==========================>...] - ETA: 0s - loss: 1.9851 - root_mean_squared_error: 1.4089INFO:tensorflow:Assets written to: model/assets\n"
     ]
    },
    {
     "name": "stderr",
     "output_type": "stream",
     "text": [
      "INFO:tensorflow:Assets written to: model/assets\n"
     ]
    },
    {
     "name": "stdout",
     "output_type": "stream",
     "text": [
      "241/241 [==============================] - 2s 9ms/step - loss: 1.9843 - root_mean_squared_error: 1.4087 - val_loss: 0.5540 - val_root_mean_squared_error: 0.7443\n",
      "Epoch 39/50\n",
      "219/241 [==========================>...] - ETA: 0s - loss: 1.6556 - root_mean_squared_error: 1.2867INFO:tensorflow:Assets written to: model/assets\n"
     ]
    },
    {
     "name": "stderr",
     "output_type": "stream",
     "text": [
      "INFO:tensorflow:Assets written to: model/assets\n"
     ]
    },
    {
     "name": "stdout",
     "output_type": "stream",
     "text": [
      "241/241 [==============================] - 2s 8ms/step - loss: 1.6454 - root_mean_squared_error: 1.2827 - val_loss: 0.4632 - val_root_mean_squared_error: 0.6806\n",
      "Epoch 40/50\n",
      "220/241 [==========================>...] - ETA: 0s - loss: 1.4090 - root_mean_squared_error: 1.1870INFO:tensorflow:Assets written to: model/assets\n"
     ]
    },
    {
     "name": "stderr",
     "output_type": "stream",
     "text": [
      "INFO:tensorflow:Assets written to: model/assets\n"
     ]
    },
    {
     "name": "stdout",
     "output_type": "stream",
     "text": [
      "241/241 [==============================] - 2s 7ms/step - loss: 1.3975 - root_mean_squared_error: 1.1821 - val_loss: 0.4251 - val_root_mean_squared_error: 0.6520\n",
      "Epoch 41/50\n",
      "239/241 [============================>.] - ETA: 0s - loss: 1.2177 - root_mean_squared_error: 1.1035INFO:tensorflow:Assets written to: model/assets\n"
     ]
    },
    {
     "name": "stderr",
     "output_type": "stream",
     "text": [
      "INFO:tensorflow:Assets written to: model/assets\n"
     ]
    },
    {
     "name": "stdout",
     "output_type": "stream",
     "text": [
      "241/241 [==============================] - 2s 9ms/step - loss: 1.2167 - root_mean_squared_error: 1.1030 - val_loss: 0.4250 - val_root_mean_squared_error: 0.6519\n",
      "Epoch 42/50\n",
      "241/241 [==============================] - 0s 2ms/step - loss: 1.0623 - root_mean_squared_error: 1.0307 - val_loss: 0.4718 - val_root_mean_squared_error: 0.6868\n",
      "Epoch 43/50\n",
      "217/241 [==========================>...] - ETA: 0s - loss: 0.9707 - root_mean_squared_error: 0.9852INFO:tensorflow:Assets written to: model/assets\n"
     ]
    },
    {
     "name": "stderr",
     "output_type": "stream",
     "text": [
      "INFO:tensorflow:Assets written to: model/assets\n"
     ]
    },
    {
     "name": "stdout",
     "output_type": "stream",
     "text": [
      "241/241 [==============================] - 2s 7ms/step - loss: 0.9548 - root_mean_squared_error: 0.9771 - val_loss: 0.4023 - val_root_mean_squared_error: 0.6343\n",
      "Epoch 44/50\n",
      "223/241 [==========================>...] - ETA: 0s - loss: 0.8480 - root_mean_squared_error: 0.9208INFO:tensorflow:Assets written to: model/assets\n"
     ]
    },
    {
     "name": "stderr",
     "output_type": "stream",
     "text": [
      "INFO:tensorflow:Assets written to: model/assets\n"
     ]
    },
    {
     "name": "stdout",
     "output_type": "stream",
     "text": [
      "241/241 [==============================] - 2s 8ms/step - loss: 0.8531 - root_mean_squared_error: 0.9237 - val_loss: 0.3960 - val_root_mean_squared_error: 0.6293\n",
      "Epoch 45/50\n",
      "220/241 [==========================>...] - ETA: 0s - loss: 0.7680 - root_mean_squared_error: 0.8764INFO:tensorflow:Assets written to: model/assets\n"
     ]
    },
    {
     "name": "stderr",
     "output_type": "stream",
     "text": [
      "INFO:tensorflow:Assets written to: model/assets\n"
     ]
    },
    {
     "name": "stdout",
     "output_type": "stream",
     "text": [
      "241/241 [==============================] - 2s 9ms/step - loss: 0.7732 - root_mean_squared_error: 0.8793 - val_loss: 0.3710 - val_root_mean_squared_error: 0.6091\n",
      "Epoch 46/50\n",
      "218/241 [==========================>...] - ETA: 0s - loss: 0.7214 - root_mean_squared_error: 0.8494INFO:tensorflow:Assets written to: model/assets\n"
     ]
    },
    {
     "name": "stderr",
     "output_type": "stream",
     "text": [
      "INFO:tensorflow:Assets written to: model/assets\n"
     ]
    },
    {
     "name": "stdout",
     "output_type": "stream",
     "text": [
      "241/241 [==============================] - 2s 7ms/step - loss: 0.7133 - root_mean_squared_error: 0.8446 - val_loss: 0.3518 - val_root_mean_squared_error: 0.5931\n",
      "Epoch 47/50\n",
      "219/241 [==========================>...] - ETA: 0s - loss: 0.6495 - root_mean_squared_error: 0.8059INFO:tensorflow:Assets written to: model/assets\n"
     ]
    },
    {
     "name": "stderr",
     "output_type": "stream",
     "text": [
      "INFO:tensorflow:Assets written to: model/assets\n"
     ]
    },
    {
     "name": "stdout",
     "output_type": "stream",
     "text": [
      "241/241 [==============================] - 2s 8ms/step - loss: 0.6459 - root_mean_squared_error: 0.8037 - val_loss: 0.3468 - val_root_mean_squared_error: 0.5889\n",
      "Epoch 48/50\n",
      "241/241 [==============================] - 0s 2ms/step - loss: 0.5968 - root_mean_squared_error: 0.7725 - val_loss: 0.3616 - val_root_mean_squared_error: 0.6013\n",
      "Epoch 49/50\n",
      "221/241 [==========================>...] - ETA: 0s - loss: 0.5611 - root_mean_squared_error: 0.7491INFO:tensorflow:Assets written to: model/assets\n"
     ]
    },
    {
     "name": "stderr",
     "output_type": "stream",
     "text": [
      "INFO:tensorflow:Assets written to: model/assets\n"
     ]
    },
    {
     "name": "stdout",
     "output_type": "stream",
     "text": [
      "241/241 [==============================] - 2s 9ms/step - loss: 0.5550 - root_mean_squared_error: 0.7450 - val_loss: 0.2934 - val_root_mean_squared_error: 0.5417\n",
      "Epoch 50/50\n",
      "219/241 [==========================>...] - ETA: 0s - loss: 0.5165 - root_mean_squared_error: 0.7187INFO:tensorflow:Assets written to: model/assets\n"
     ]
    },
    {
     "name": "stderr",
     "output_type": "stream",
     "text": [
      "INFO:tensorflow:Assets written to: model/assets\n"
     ]
    },
    {
     "name": "stdout",
     "output_type": "stream",
     "text": [
      "241/241 [==============================] - 2s 7ms/step - loss: 0.5146 - root_mean_squared_error: 0.7173 - val_loss: 0.2847 - val_root_mean_squared_error: 0.5336\n"
     ]
    },
    {
     "data": {
      "text/plain": [
       "<keras.src.callbacks.History at 0x7f595c55f050>"
      ]
     },
     "execution_count": 45,
     "metadata": {},
     "output_type": "execute_result"
    }
   ],
   "source": [
    "# Train model\n",
    "\n",
    "model.fit(X_train, y_train, validation_data=(X_val, y_val), epochs=50, callbacks=[cp])"
   ]
  },
  {
   "cell_type": "code",
   "execution_count": 49,
   "metadata": {},
   "outputs": [],
   "source": [
    "# Load best model\n",
    "\n",
    "model = load_model('model/')"
   ]
  },
  {
   "cell_type": "code",
   "execution_count": 50,
   "metadata": {},
   "outputs": [
    {
     "name": "stdout",
     "output_type": "stream",
     "text": [
      "241/241 [==============================] - 0s 816us/step\n"
     ]
    },
    {
     "data": {
      "text/html": [
       "<div>\n",
       "<style scoped>\n",
       "    .dataframe tbody tr th:only-of-type {\n",
       "        vertical-align: middle;\n",
       "    }\n",
       "\n",
       "    .dataframe tbody tr th {\n",
       "        vertical-align: top;\n",
       "    }\n",
       "\n",
       "    .dataframe thead th {\n",
       "        text-align: right;\n",
       "    }\n",
       "</style>\n",
       "<table border=\"1\" class=\"dataframe\">\n",
       "  <thead>\n",
       "    <tr style=\"text-align: right;\">\n",
       "      <th></th>\n",
       "      <th>Train Predictions</th>\n",
       "      <th>Actuals</th>\n",
       "    </tr>\n",
       "  </thead>\n",
       "  <tbody>\n",
       "    <tr>\n",
       "      <th>0</th>\n",
       "      <td>40.539616</td>\n",
       "      <td>41.3</td>\n",
       "    </tr>\n",
       "    <tr>\n",
       "      <th>1</th>\n",
       "      <td>41.683315</td>\n",
       "      <td>42.5</td>\n",
       "    </tr>\n",
       "    <tr>\n",
       "      <th>2</th>\n",
       "      <td>42.977753</td>\n",
       "      <td>43.2</td>\n",
       "    </tr>\n",
       "    <tr>\n",
       "      <th>3</th>\n",
       "      <td>43.801517</td>\n",
       "      <td>43.5</td>\n",
       "    </tr>\n",
       "    <tr>\n",
       "      <th>4</th>\n",
       "      <td>43.967426</td>\n",
       "      <td>43.3</td>\n",
       "    </tr>\n",
       "    <tr>\n",
       "      <th>...</th>\n",
       "      <td>...</td>\n",
       "      <td>...</td>\n",
       "    </tr>\n",
       "    <tr>\n",
       "      <th>7695</th>\n",
       "      <td>43.647282</td>\n",
       "      <td>43.1</td>\n",
       "    </tr>\n",
       "    <tr>\n",
       "      <th>7696</th>\n",
       "      <td>43.143780</td>\n",
       "      <td>42.9</td>\n",
       "    </tr>\n",
       "    <tr>\n",
       "      <th>7697</th>\n",
       "      <td>42.891762</td>\n",
       "      <td>42.6</td>\n",
       "    </tr>\n",
       "    <tr>\n",
       "      <th>7698</th>\n",
       "      <td>42.701130</td>\n",
       "      <td>42.5</td>\n",
       "    </tr>\n",
       "    <tr>\n",
       "      <th>7699</th>\n",
       "      <td>42.624374</td>\n",
       "      <td>42.3</td>\n",
       "    </tr>\n",
       "  </tbody>\n",
       "</table>\n",
       "<p>7700 rows × 2 columns</p>\n",
       "</div>"
      ],
      "text/plain": [
       "      Train Predictions  Actuals\n",
       "0             40.539616     41.3\n",
       "1             41.683315     42.5\n",
       "2             42.977753     43.2\n",
       "3             43.801517     43.5\n",
       "4             43.967426     43.3\n",
       "...                 ...      ...\n",
       "7695          43.647282     43.1\n",
       "7696          43.143780     42.9\n",
       "7697          42.891762     42.6\n",
       "7698          42.701130     42.5\n",
       "7699          42.624374     42.3\n",
       "\n",
       "[7700 rows x 2 columns]"
      ]
     },
     "execution_count": 50,
     "metadata": {},
     "output_type": "execute_result"
    }
   ],
   "source": [
    "# Compare model predictions vs actual values\n",
    "\n",
    "train_predictions = model.predict(X_train).flatten()\n",
    "train_results = pd.DataFrame(data={'Train Predictions':train_predictions, 'Actuals':y_train})\n",
    "train_results"
   ]
  },
  {
   "cell_type": "code",
   "execution_count": 51,
   "metadata": {},
   "outputs": [
    {
     "data": {
      "text/plain": [
       "[<matplotlib.lines.Line2D at 0x7f593c988e10>]"
      ]
     },
     "execution_count": 51,
     "metadata": {},
     "output_type": "execute_result"
    },
    {
     "data": {
      "image/png": "[encoded data removed]",
      "text/plain": [
       "<Figure size 640x480 with 1 Axes>"
      ]
     },
     "metadata": {},
     "output_type": "display_data"
    }
   ],
   "source": [
    "# Plot results for visual representation\n",
    "\n",
    "plt.plot(train_results['Train Predictions'][:])\n",
    "plt.plot(train_results['Actuals'][:])"
   ]
  },
  {
   "cell_type": "code",
   "execution_count": 53,
   "metadata": {},
   "outputs": [
    {
     "data": {
      "text/plain": [
       "[<matplotlib.lines.Line2D at 0x7f593c1a9090>]"
      ]
     },
     "execution_count": 53,
     "metadata": {},
     "output_type": "execute_result"
    },
    {
     "data": {
      "image/png": "[encoded data removed]",
      "text/plain": [
       "<Figure size 640x480 with 1 Axes>"
      ]
     },
     "metadata": {},
     "output_type": "display_data"
    }
   ],
   "source": [
    "# Plotting deviation from actual temperatures\n",
    "\n",
    "Error = abs(train_results['Actuals'][:] - train_results['Train Predictions'][:])\n",
    "plt.plot(margin)"
   ]
  },
  {
   "cell_type": "code",
   "execution_count": 54,
   "metadata": {},
   "outputs": [],
   "source": [
    "# Define function for plotting windows of time for predictions vs actuals\n",
    "\n",
    "from sklearn.metrics import mean_squared_error as mse\n",
    "\n",
    "def plot_predictions1(model, X, y, start=0, end=100):\n",
    "  predictions = model.predict(X).flatten()\n",
    "  df = pd.DataFrame(data={'Predictions': predictions, 'Actuals':y})\n",
    "  plt.plot(df['Predictions'][start:end])\n",
    "  plt.plot(df['Actuals'][start:end])\n",
    "  return df, mse(predictions, y)"
   ]
  },
  {
   "cell_type": "code",
   "execution_count": 55,
   "metadata": {},
   "outputs": [
    {
     "name": "stdout",
     "output_type": "stream",
     "text": [
      "18/18 [==============================] - 0s 815us/step\n"
     ]
    },
    {
     "data": {
      "text/plain": [
       "(     Predictions  Actuals\n",
       " 0      40.603794     40.0\n",
       " 1      40.433834     39.8\n",
       " 2      40.310276     39.6\n",
       " 3      40.159191     39.5\n",
       " 4      40.065895     39.6\n",
       " ..           ...      ...\n",
       " 544    41.013359     40.7\n",
       " 545    40.885769     40.5\n",
       " 546    40.853882     40.2\n",
       " 547    40.670250     40.0\n",
       " 548    40.484566     39.7\n",
       " \n",
       " [549 rows x 2 columns],\n",
       " 0.5240044313398575)"
      ]
     },
     "execution_count": 55,
     "metadata": {},
     "output_type": "execute_result"
    },
    {
     "data": {
      "image/png": "[encoded data removed]",
      "text/plain": [
       "<Figure size 640x480 with 1 Axes>"
      ]
     },
     "metadata": {},
     "output_type": "display_data"
    }
   ],
   "source": [
    "# Plotting window of 100 hours to have finer detail\n",
    "\n",
    "plot_predictions1(model, X_test, y_test)"
   ]
  }
 ],
 "metadata": {
  "kernelspec": {
   "display_name": ".venv",
   "language": "python",
   "name": "python3"
  },
  "language_info": {
   "codemirror_mode": {
    "name": "ipython",
    "version": 3
   },
   "file_extension": ".py",
   "mimetype": "text/x-python",
   "name": "python",
   "nbconvert_exporter": "python",
   "pygments_lexer": "ipython3",
   "version": "3.11.5"
  }
 },
 "nbformat": 4,
 "nbformat_minor": 2
}
